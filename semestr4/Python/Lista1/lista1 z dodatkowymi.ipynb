{
  "nbformat": 4,
  "nbformat_minor": 0,
  "metadata": {
    "kernelspec": {
      "name": "python3",
      "display_name": "Python 3"
    },
    "language_info": {
      "codemirror_mode": {
        "name": "ipython",
        "version": 3
      },
      "file_extension": ".py",
      "mimetype": "text/x-python",
      "name": "python",
      "nbconvert_exporter": "python",
      "pygments_lexer": "ipython3",
      "version": "3.8.1"
    },
    "colab": {
      "name": "lista1.ipynb",
      "provenance": [],
      "collapsed_sections": []
    },
    "accelerator": "TPU"
  },
  "cells": [
    {
      "cell_type": "markdown",
      "metadata": {
        "id": "LNgTWBKJ8qZ9",
        "colab_type": "text"
      },
      "source": [
        "# Lista 1\n",
        "\n",
        "## Kurs wybranego języka programowania (Python)\n",
        "\n",
        "Wszystkie rozwiązania proszę wpisać w tym notatniku poniżej treści zadań. Zadania z `*` to zadania dodatkowe."
      ]
    },
    {
      "cell_type": "markdown",
      "metadata": {
        "id": "gIjgr1Ym8qZ_",
        "colab_type": "text"
      },
      "source": [
        "## Zadanie 1 _(5pt)_\n",
        "\n",
        "Napisz funkcję, który wyświetla trójkąt Pascala o zadanej wysokości\n",
        "```\n",
        "                1\n",
        "              1   1\n",
        "            1   2   1\n",
        "          1   3   3   1\n",
        "        1   4   6   4   1\n",
        "      .....................\n",
        "```"
      ]
    },
    {
      "cell_type": "code",
      "metadata": {
        "id": "XjNgt3i78qaA",
        "colab_type": "code",
        "outputId": "7af25f6a-9db2-44cc-9728-8b4c716271af",
        "colab": {
          "base_uri": "https://localhost:8080/",
          "height": 102
        }
      },
      "source": [
        "def pascal_triangle(n):\n",
        "    line = [1]\n",
        "    print(' '.join([str(item) for item in line]).center(80))\n",
        "    for i in range(int(n) - 1):\n",
        "      next_line = [1]\n",
        "      for j in range(len(line) - 1):\n",
        "          next_line.append(line[j] + line[j + 1])\n",
        "      next_line.append(1)\n",
        "      line = next_line\n",
        "      print(' '.join([str(item) for item in line]).center(80))\n",
        "\n",
        "pascal_triangle(5)"
      ],
      "execution_count": 0,
      "outputs": [
        {
          "output_type": "stream",
          "text": [
            "                                       1                                        \n",
            "                                      1 1                                       \n",
            "                                     1 2 1                                      \n",
            "                                    1 3 3 1                                     \n",
            "                                   1 4 6 4 1                                    \n"
          ],
          "name": "stdout"
        }
      ]
    },
    {
      "cell_type": "markdown",
      "metadata": {
        "id": "DSkaa5F88qaE",
        "colab_type": "text"
      },
      "source": [
        "## Zadanie 2 _(5pt)_\n",
        "\n",
        "Napisz funkcję `primes(n)` zwracająca listę liczb pierwszych nie większych niż $n$ np.\n",
        "\n",
        "```\n",
        "In [ ]:   primes(6)\n",
        "Out [ ]: [2, 3, 5]\n",
        "```"
      ]
    },
    {
      "cell_type": "code",
      "metadata": {
        "id": "UB6w6J3M8qaF",
        "colab_type": "code",
        "outputId": "3148797a-2c88-4fe5-8ebc-05f87c4b3de1",
        "colab": {
          "base_uri": "https://localhost:8080/",
          "height": 34
        }
      },
      "source": [
        "def primes(n):\n",
        "  numbers = [False for i in range(int(n)+1)]\n",
        "  primesList = []\n",
        "  for i in range(2, len(numbers)):\n",
        "      if numbers[i] == False:\n",
        "          primesList.append(i)\n",
        "          j = i\n",
        "          for j in range(i, len(numbers), i):\n",
        "              numbers[j] = True\n",
        "  print(primesList)\n",
        "primes(80)"
      ],
      "execution_count": 0,
      "outputs": [
        {
          "output_type": "stream",
          "text": [
            "[2, 3, 5, 7, 11, 13, 17, 19, 23, 29, 31, 37, 41, 43, 47, 53, 59, 61, 67, 71, 73, 79]\n"
          ],
          "name": "stdout"
        }
      ]
    },
    {
      "cell_type": "markdown",
      "metadata": {
        "id": "RWHuR5iV8qaJ",
        "colab_type": "text"
      },
      "source": [
        "## Zadanie 3 _(5pt)_\n",
        "\n",
        "Napisz funkcje, która usuwa wszystkie powtarzające się elementy z listy (tak, że każdy element występuje tylko raz) np. z listy `[1,1,2,2,2,3,3,5,5,5,4,4,4,0]` dostajemy `[1,2,3,5,4,0]`."
      ]
    },
    {
      "cell_type": "code",
      "metadata": {
        "id": "jzv3ZDrr8qaK",
        "colab_type": "code",
        "outputId": "317ccb24-6937-4b4c-eed8-abd19967aa2d",
        "colab": {
          "base_uri": "https://localhost:8080/",
          "height": 34
        }
      },
      "source": [
        "rm = lambda list1: list(dict.fromkeys(list1, 1))\n",
        "\n",
        "rm([1, 1, 2, 1, 5, 2,2,1,5,3])"
      ],
      "execution_count": 0,
      "outputs": [
        {
          "output_type": "execute_result",
          "data": {
            "text/plain": [
              "[1, 2, 5, 3]"
            ]
          },
          "metadata": {
            "tags": []
          },
          "execution_count": 13
        }
      ]
    },
    {
      "cell_type": "markdown",
      "metadata": {
        "id": "eHoImuXX8qaN",
        "colab_type": "text"
      },
      "source": [
        "## Zadanie 4 _(10pt)_\n",
        "\n",
        "Napisz funkcję `prime_factors(n)`, która rozkłada $n$ na czynniki pierwsze i jako wynik wraca listę par $[(p_1,\\alpha_1), (p_2,\\alpha_2), \\ldots, (p_k, \\alpha_k)]$ taką, że $p_1^{\\alpha_1}p_2^{\\alpha_2}\\ldots p_k^{\\alpha_k}$.\n"
      ]
    },
    {
      "cell_type": "code",
      "metadata": {
        "id": "XsNTP3O18qaO",
        "colab_type": "code",
        "outputId": "b5235414-d35a-4988-c980-bbdbc9b688af",
        "colab": {
          "base_uri": "https://localhost:8080/",
          "height": 34
        }
      },
      "source": [
        "from math import sqrt\n",
        "\n",
        "def prime_factors(n):\n",
        "    prime_fact_list = []\n",
        "    i = 2\n",
        "    while i <= n:\n",
        "        power = 0\n",
        "        while(n % i == 0):\n",
        "            power += 1\n",
        "            n //= i\n",
        "        if power:\n",
        "            pair = (i, power)\n",
        "            prime_fact_list.append(pair)\n",
        "        i+=1\n",
        "    \n",
        "    print(prime_fact_list)\n",
        "\n",
        "prime_factors(82)"
      ],
      "execution_count": 0,
      "outputs": [
        {
          "output_type": "stream",
          "text": [
            "[(2, 1), (41, 1)]\n"
          ],
          "name": "stdout"
        }
      ]
    },
    {
      "cell_type": "markdown",
      "metadata": {
        "id": "NaDLmcyI8qaR",
        "colab_type": "text"
      },
      "source": [
        "## Zadanie 5 _(10pt)_\n",
        "\n",
        "Napisz funkcję `fraczero(n)` liczącą silnie $n!$ dla $n$ od $0$ do $10000$ oraz jako wynik wraca liczbę zer na końcu $n!$."
      ]
    },
    {
      "cell_type": "code",
      "metadata": {
        "id": "iRRD8_LX8qaT",
        "colab_type": "code",
        "outputId": "6f9d734b-bd94-418a-af6f-42aefdb3d87b",
        "colab": {
          "base_uri": "https://localhost:8080/",
          "height": 34
        }
      },
      "source": [
        "from math import sqrt\n",
        "from math import factorial\n",
        "\n",
        "def trailingZeros(n):\n",
        "    factorial(n)\n",
        "    zeros = 0\n",
        "    p = 5\n",
        "    while(n/p >= 1):\n",
        "        zeros += int(n/p)\n",
        "        p *= 5\n",
        "    print(zeros)\n",
        "\n",
        "trailingZeros(10000)"
      ],
      "execution_count": 0,
      "outputs": [
        {
          "output_type": "stream",
          "text": [
            "2499\n"
          ],
          "name": "stdout"
        }
      ]
    },
    {
      "cell_type": "markdown",
      "metadata": {
        "id": "o2CaAlHv8qaZ",
        "colab_type": "text"
      },
      "source": [
        "## Zadanie 6 _(10pt)_\n",
        "\n",
        "Napisz program, który generuje liczbę $20$ liczb losowych (rozkład jednostajny) od $1$ do $100$\n",
        "* Wyświetl listę wygenerowanych liczb\n",
        "* Wyświetl średnią\n",
        "* Wyświetl największą i najmniejszą wartość\n",
        "* Wyświetl drugą największą i drugą najmniejszą wartość na liście\n",
        "* Wyświetl ile jest liczb parzystych na liście\n",
        " "
      ]
    },
    {
      "cell_type": "code",
      "metadata": {
        "id": "uBlZVxwB8qaa",
        "colab_type": "code",
        "outputId": "aa6a8fb1-bd04-443e-e9c6-91ee320f8908",
        "colab": {
          "base_uri": "https://localhost:8080/",
          "height": 136
        }
      },
      "source": [
        "from random import randint\n",
        "\n",
        "def randNum():\n",
        "    randList = []\n",
        "    odds = 0\n",
        "    avg = 0\n",
        "    for i in range(20):\n",
        "        x = randint(1,100)\n",
        "        randList.append(x)\n",
        "        avg += x\n",
        "        if( x % 2 == 0): odds += 1\n",
        "    print(\"list: \" + str(randList))\n",
        "    print(\"average: \" + str(avg/20))\n",
        "    print(\"min: \" + (str(min(randList))))\n",
        "    print(\"max: \" + (str(max(randList))))\n",
        "    print(\"second min: \" + str(sorted(list(set(randList)))[1]))\n",
        "    print(\"second max: \" + str(sorted(list(set(randList)))[-2]))\n",
        "    print(\"odds: \" + str(odds))\n",
        "\n",
        "randNum()"
      ],
      "execution_count": 0,
      "outputs": [
        {
          "output_type": "stream",
          "text": [
            "list: [98, 14, 98, 62, 28, 77, 46, 42, 95, 52, 3, 19, 88, 69, 70, 74, 28, 71, 8, 88]\n",
            "average: 56.5\n",
            "min: 3\n",
            "max: 98\n",
            "second min: 8\n",
            "second max: 95\n",
            "odds: 14\n"
          ],
          "name": "stdout"
        }
      ]
    },
    {
      "cell_type": "markdown",
      "metadata": {
        "id": "ZMbG1jnQ8qad",
        "colab_type": "text"
      },
      "source": [
        "## Zadanie 7 _(10pt)_\n",
        "\n",
        "Załóżmy, że mamy następującą listę: `L = ['aababacaa', 'cabaabcca', 'aaabbcbacb', 'acababbaab', ...]` wygenerowaną losowo tzn. lista zawiera losowe ciągi znaków o zadanej długości z liter `'a'`, `'b'` i `'c'`. Takie wzorce występują w wielu miejscach np. sekwencje DNA. Użytkownik zawiera swój (wzorzec) ciąg znaków z literami i pustymi miejscami oznaczonymi przez `'*'` np. `\"a**a******\"`. Wykorzystaj słownik z kluczami zawierającymi indeksy znaków różnych od `'*'` i wartościami liter z wzorca. Napisz program, który znajduje wszystkie sekwencje z listy, które pasuje do podanego wzorca."
      ]
    },
    {
      "cell_type": "code",
      "metadata": {
        "id": "ETU-IOgB8qae",
        "colab_type": "code",
        "outputId": "97e5dbbe-c3b2-479b-ac4a-0c4bee61b50f",
        "colab": {
          "base_uri": "https://localhost:8080/",
          "height": 51
        }
      },
      "source": [
        "from functools import partial\n",
        "from random import choice\n",
        "\n",
        "\n",
        "def createPattern(patttern):\n",
        "    result = {}\n",
        "    for i, letter in enumerate(patttern):\n",
        "        if letter != '*':\n",
        "            result[i] = letter\n",
        "    return result\n",
        "\n",
        "def isPattern(pattern, suspect):\n",
        "    for key, value in pattern.items():\n",
        "        if(suspect[key] != value):\n",
        "            return False\n",
        "    return True\n",
        "\n",
        "def checkPatterns(suspects, pattern):\n",
        "    rightPatterns = list(filter(partial(isPattern, pattern), suspects))\n",
        "    print(rightPatterns)\n",
        "\n",
        "def generateSuspects(lngth):\n",
        "    suspect = \"\"\n",
        "    for i in range(lngth):\n",
        "        suspect += str(choice(['a','b','c']))\n",
        "    return suspect\n",
        "\n",
        "susp = []\n",
        "for i in range(5):\n",
        "    susp.append(generateSuspects(5))\n",
        "print(susp)\n",
        "susp.append(\"aabbc\")\n",
        "patt = createPattern(\"a*b*c\")\n",
        "checkPatterns(susp, patt)"
      ],
      "execution_count": 0,
      "outputs": [
        {
          "output_type": "stream",
          "text": [
            "['cccaa', 'bacbb', 'acabb', 'ccccc', 'cacaa']\n",
            "['aabbc']\n"
          ],
          "name": "stdout"
        }
      ]
    },
    {
      "cell_type": "markdown",
      "metadata": {
        "id": "yC9NcQ6-8qah",
        "colab_type": "text"
      },
      "source": [
        "## Zadanie 8 _(10pt)_\n",
        "\n",
        "Napisz program, który konwerteruje liczby rzymskie na liczby arabskie. Do zapisu liczb rzymskich używa\n",
        "się 7 liter: `I=1`, `V=5`, `X=10`, `L=50`, `C=100`, `D=500`, `M=1000`. Opis algorytmu zamiany z i na system rzymski można znaleźć np. [tutaj](http://www.algorytm.org/algorytmy-arytmetyczne/zamiana-z-i-na-system-rzymski.html)"
      ]
    },
    {
      "cell_type": "code",
      "metadata": {
        "id": "Wz1fB--Z7EaG",
        "colab_type": "code",
        "outputId": "05e328d1-2f64-40c4-d896-a70c561416ac",
        "colab": {
          "base_uri": "https://localhost:8080/",
          "height": 34
        }
      },
      "source": [
        "import roman\n",
        "try:\n",
        "  roman.fromRoman(\"\")\n",
        "except:\n",
        "  print(\"Invalid number!\")\n"
      ],
      "execution_count": 0,
      "outputs": [
        {
          "output_type": "stream",
          "text": [
            "Invalid number!\n"
          ],
          "name": "stdout"
        }
      ]
    },
    {
      "cell_type": "code",
      "metadata": {
        "id": "4g1tuPMD8qai",
        "colab_type": "code",
        "colab": {}
      },
      "source": [
        "def isCorrect(romanNum, allRomanNum):\n",
        "    previousNumber = ''\n",
        "    sameNumber = 1\n",
        "    for i in range(len(romanNum)):\n",
        "        # check if such roman number exists\n",
        "        if romanNum[i] not in list(allRomanNum.keys()):\n",
        "            print(\"wrong digit\")\n",
        "            return False\n",
        "        # check if no more than three the same numbers in a row\n",
        "        if(romanNum[i] == previousNumber):\n",
        "            sameNumber += 1\n",
        "            if sameNumber == 4:\n",
        "                print(\"more than 3\")\n",
        "                return False\n",
        "        else:\n",
        "            sameNumber = 1\n",
        "        # check if substracting is correct\n",
        "        if(i < len(romanNum)-1):\n",
        "            if(allRomanNum[romanNum[i]] < allRomanNum[romanNum[i+1]]):\n",
        "                if(allRomanNum[romanNum[i+1]]/allRomanNum[romanNum[i]] >= 10 and romanNum[i] != 'C' and (romanNum[i] != 'I' and romanNum[i+1] != 'X') and (romanNum[i] != 'X' and romanNum[i+1] != 'C')):\n",
        "                    print(\"second wrong\")\n",
        "                    return False\n",
        "                if( i >= 1):\n",
        "                    if allRomanNum[romanNum[i-1]] <= allRomanNum[romanNum[i]]:\n",
        "                        print(\"one before was equal or less so next must not be equal or greater\")\n",
        "                        return False\n",
        "                if( i < len(romanNum)-2):\n",
        "                    if allRomanNum[romanNum[i]] <= allRomanNum[romanNum[i+2]]:\n",
        "                        print(i)\n",
        "                        return False\n",
        "                if(i >= 2):\n",
        "                    if allRomanNum[romanNum[i-2] == allRomanNum[romanNum[i]]]:\n",
        "                        return False\n",
        "     \n",
        "        previousNumber = romanNum[i]\n",
        "                   \n",
        "    return True\n",
        "\n",
        "\n",
        "def countArabic(romanNum):\n",
        "    allRomanNum = {'I': 1, 'V': 5, 'X': 10, 'L':50, 'C': 100, 'D': 500, 'M': 1000}\n",
        "    if not isCorrect(romanNum, allRomanNum):\n",
        "        print(\"Wrong number!\")\n",
        "        return -1\n",
        "\n",
        "    arabicNum = 0\n",
        "\n",
        "    for i in range(len(romanNum)):\n",
        "        if i < len(romanNum)-1:\n",
        "            if allRomanNum[romanNum[i]] < allRomanNum[romanNum[i+1]]:\n",
        "                arabicNum -= allRomanNum[romanNum[i]]\n",
        "            else:\n",
        "                arabicNum += allRomanNum[romanNum[i]]\n",
        "        else:\n",
        "            arabicNum += allRomanNum[romanNum[i]]\n",
        "    return arabicNum\n",
        "\n",
        "print(countArabic(\"\"))\n",
        "\n",
        "\n",
        "        "
      ],
      "execution_count": 0,
      "outputs": []
    },
    {
      "cell_type": "markdown",
      "metadata": {
        "id": "u7X7zeyS8qal",
        "colab_type": "text"
      },
      "source": [
        "## Zadanie 9* _(5pt)_\n",
        "\n",
        "Napisz program kalkulator, który pobiera wprowadzone wartości oraz funkcje z klawiatury następnie podaje wynik. W przypadku błędnych danych zgłasza błąd.\n",
        "\n",
        "Przykładowa sesja:\n",
        "```\n",
        "    Kalkulator\n",
        "    [1]: 2+5*10\n",
        "        52\n",
        "    [2]: sin(0.5)+cos(0.3)\n",
        "        1.434762027729809\n",
        "    [3]: 2^100\n",
        "        1267650600228229401496703205376\n",
        "```\n",
        "\n",
        "Przykładowy kod pobierania danych od użytkownika:\n",
        "\n",
        "```\n",
        "    x = input('Podaj x = ')\n",
        "```"
      ]
    },
    {
      "cell_type": "code",
      "metadata": {
        "id": "e3SGCvDS8qam",
        "colab_type": "code",
        "outputId": "e7bbd844-8ebd-4f62-89b9-2a4899db8f62",
        "colab": {
          "base_uri": "https://localhost:8080/",
          "height": 51
        }
      },
      "source": [
        "from math import *\n",
        "\n",
        "x = input(\"podaj x = \")\n",
        "x = x.replace(\"^\",\"**\")\n",
        "try:\n",
        "  print(eval(x))\n",
        "except:\n",
        "  print(\"Wrong input!\")"
      ],
      "execution_count": 32,
      "outputs": [
        {
          "output_type": "stream",
          "text": [
            "podaj x = sin(0.5)+cos(0.3)\n",
            "1.434762027729809\n"
          ],
          "name": "stdout"
        }
      ]
    },
    {
      "cell_type": "markdown",
      "metadata": {
        "id": "tiOOwuDi8qao",
        "colab_type": "text"
      },
      "source": [
        "\n",
        "## Zadanie 10* _(10pt)_\n",
        "\n",
        "Napisz program, który rysuje na ekranie w trybie znakowym wykres funkcji zmiennej $x$. Wskazówka: utwórz  ,,tablicę dwuwymiarową'' o wymiarach 80x24 i narysuj wykres w tej tablicy. Następnie wynik wyświetl na ekranie.\n",
        "\n",
        "```\n",
        "        Podaj funkcje f(x) = sin(x)\n",
        "        Podaj początek przedziału a = -pi\n",
        "        Podaj koniec przedziału b = pi\n",
        "                                                |\n",
        "                                                |\n",
        "                                                |              ***********\n",
        "                                                |           ***           ***\n",
        "                                                |         **                 **\n",
        "                                                |        *                     *\n",
        "                                                |      **                       **\n",
        "                                                |     *                           *\n",
        "                                                |   **                             **\n",
        "                                                |  *                                 *\n",
        "                                                | *                                   *\n",
        "                                                |*                                     *\n",
        "        ----------------------------------------|---------------------------------------\n",
        "          *                                   * |\n",
        "           *                                 *  |\n",
        "            **                             **   |\n",
        "              *                           *     |\n",
        "               **                       **      |\n",
        "                 *                     *        |\n",
        "                  **                 **         |\n",
        "                    ***           ***           |\n",
        "                       ***** *****              |\n",
        "                            *                   |\n",
        "                                                |\n",
        "```"
      ]
    },
    {
      "cell_type": "code",
      "metadata": {
        "id": "T53Q0Zaj8qap",
        "colab_type": "code",
        "outputId": "95c47c0f-20b7-4c54-807e-9aad3ab23bf2",
        "colab": {
          "base_uri": "https://localhost:8080/",
          "height": 476
        }
      },
      "source": [
        "from math import *\n",
        "\n",
        "chart = [['' for j in range(80)] for i in range(24)]\n",
        "f =input(\"Podaj funkcje ze zmienna x: \")\n",
        "values = []\n",
        "f = f.replace(\"^\",\"**\")\n",
        "\n",
        "a = input(\"Podaj początek przedziału: \")\n",
        "b = input(\"Podaj koniec przedziału: \")\n",
        "a = a.replace(\"pi\",\"3.14159265359\")\n",
        "b = b.replace(\"pi\",\"3.14159265359\")\n",
        "c = abs(float(a))\n",
        "d = abs(float(b))\n",
        "\n",
        "\n",
        "for j in range(80):\n",
        "    x = float(a) + ((c+d)/80)*(j+1)\n",
        "    g = f.replace(\"x\", str(x))\n",
        "    values.append(eval(g))\n",
        "\n",
        "maks = max(values)\n",
        "minik = min(values)\n",
        "height = abs(maks) + abs(minik)\n",
        "zeroPlace = -1\n",
        "zeroValue = -10\n",
        "\n",
        "for j in range(80):\n",
        "    i = abs(int((maks - values[j])*(23/height)))\n",
        "    if int(values[j]) == 0:\n",
        "      if abs(zeroValue) > abs(values[j]):\n",
        "        zeroPlace = i\n",
        "        zeroValue = values[j]\n",
        "    chart[i][j]='*'\n",
        "\n",
        "for i in range(24):\n",
        "    for j in range(80):\n",
        "        if j == 40:\n",
        "            print('|',end='')\n",
        "        elif i == zeroPlace:\n",
        "          print('-',end='')\n",
        "        elif chart[i][j] != '*':\n",
        "            print('', end=' ')\n",
        "        else:\n",
        "            print(chart[i][j], end='')\n",
        "    print()\n"
      ],
      "execution_count": 29,
      "outputs": [
        {
          "output_type": "stream",
          "text": [
            "Podaj funkcje ze zmienna x: cos(x)\n",
            "Podaj początek przedziału: -pi\n",
            "Podaj koniec przedziału: pi\n",
            "                                  ******|****                                   \n",
            "                                **      |    **                                 \n",
            "                              **        |      **                               \n",
            "                             *          |        *                              \n",
            "                           **           |         **                            \n",
            "                          *             |           *                           \n",
            "                         *              |            *                          \n",
            "                       **               |             **                        \n",
            "                      *                 |               *                       \n",
            "                     *                  |                *                      \n",
            "                    *                   |                 *                     \n",
            "----------------------------------------|---------------------------------------\n",
            "                  *                     |                   *                   \n",
            "                 *                      |                    *                  \n",
            "                *                       |                     *                 \n",
            "              **                        |                      **               \n",
            "             *                          |                        *              \n",
            "            *                           |                         *             \n",
            "          **                            |                          **           \n",
            "         *                              |                            *          \n",
            "       **                               |                             **        \n",
            "     **                                 |                               **      \n",
            "*****                                   |                                 ***** \n",
            "                                        |                                      *\n"
          ],
          "name": "stdout"
        }
      ]
    }
  ]
}