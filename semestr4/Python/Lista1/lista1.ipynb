{
  "nbformat": 4,
  "nbformat_minor": 0,
  "metadata": {
    "kernelspec": {
      "name": "python3",
      "display_name": "Python 3"
    },
    "language_info": {
      "codemirror_mode": {
        "name": "ipython",
        "version": 3
      },
      "file_extension": ".py",
      "mimetype": "text/x-python",
      "name": "python",
      "nbconvert_exporter": "python",
      "pygments_lexer": "ipython3",
      "version": "3.8.0-final"
    },
    "colab": {
      "name": "lista1.ipynb",
      "provenance": [],
      "collapsed_sections": []
    },
    "accelerator": "TPU"
  },
  "cells": [
    {
      "cell_type": "markdown",
      "metadata": {
        "colab_type": "text",
        "id": "LNgTWBKJ8qZ9"
      },
      "source": [
        "# Lista 1\n",
        "\n",
        "## Kurs wybranego języka programowania (Python)\n",
        "\n",
        "Wszystkie rozwiązania proszę wpisać w tym notatniku poniżej treści zadań. Zadania z `*` to zadania dodatkowe."
      ]
    },
    {
      "cell_type": "markdown",
      "metadata": {
        "colab_type": "text",
        "id": "gIjgr1Ym8qZ_"
      },
      "source": [
        "## Zadanie 1 _(5pt)_\n",
        "\n",
        "Napisz funkcję, który wyświetla trójkąt Pascala o zadanej wysokości\n",
        "```\n",
        "                1\n",
        "              1   1\n",
        "            1   2   1\n",
        "          1   3   3   1\n",
        "        1   4   6   4   1\n",
        "      .....................\n",
        "```"
      ]
    },
    {
      "cell_type": "code",
      "execution_count": 0,
      "metadata": {
        "colab": {
          "base_uri": "https://localhost:8080/",
          "height": 102
        },
        "colab_type": "code",
        "id": "XjNgt3i78qaA",
        "outputId": "7af25f6a-9db2-44cc-9728-8b4c716271af"
      },
      "outputs": [
        {
          "name": "stdout",
          "output_type": "stream",
          "text": [
            "                                       1                                        \n",
            "                                      1 1                                       \n",
            "                                     1 2 1                                      \n",
            "                                    1 3 3 1                                     \n",
            "                                   1 4 6 4 1                                    \n"
          ]
        }
      ],
      "source": [
        "def pascal_triangle(n):\n",
        "    line = [1]\n",
        "    print(' '.join([str(item) for item in line]).center(80))\n",
        "    for i in range(int(n) - 1):\n",
        "      next_line = [1]\n",
        "      for j in range(len(line) - 1):\n",
        "          next_line.append(line[j] + line[j + 1])\n",
        "      next_line.append(1)\n",
        "      line = next_line\n",
        "      print(' '.join([str(item) for item in line]).center(80))\n",
        "\n",
        "pascal_triangle(5)"
      ]
    },
    {
      "cell_type": "markdown",
      "metadata": {
        "colab_type": "text",
        "id": "DSkaa5F88qaE"
      },
      "source": [
        "## Zadanie 2 _(5pt)_\n",
        "\n",
        "Napisz funkcję `primes(n)` zwracająca listę liczb pierwszych nie większych niż $n$ np.\n",
        "\n",
        "```\n",
        "In [ ]:   primes(6)\n",
        "Out [ ]: [2, 3, 5]\n",
        "```"
      ]
    },
    {
      "cell_type": "code",
      "execution_count": 0,
      "metadata": {
        "colab": {
          "base_uri": "https://localhost:8080/",
          "height": 34
        },
        "colab_type": "code",
        "id": "UB6w6J3M8qaF",
        "outputId": "3148797a-2c88-4fe5-8ebc-05f87c4b3de1"
      },
      "outputs": [
        {
          "name": "stdout",
          "output_type": "stream",
          "text": [
            "[2, 3, 5, 7, 11, 13, 17, 19, 23, 29, 31, 37, 41, 43, 47, 53, 59, 61, 67, 71, 73, 79]\n"
          ]
        }
      ],
      "source": [
        "def primes(n):\n",
        "  numbers = [False for i in range(int(n)+1)]\n",
        "  primesList = []\n",
        "  for i in range(2, len(numbers)):\n",
        "      if numbers[i] == False:\n",
        "          primesList.append(i)\n",
        "          j = i\n",
        "          for j in range(i, len(numbers), i):\n",
        "              numbers[j] = True\n",
        "  print(primesList)\n",
        "primes(80)"
      ]
    },
    {
      "cell_type": "markdown",
      "metadata": {
        "colab_type": "text",
        "id": "RWHuR5iV8qaJ"
      },
      "source": [
        "## Zadanie 3 _(5pt)_\n",
        "\n",
        "Napisz funkcje, która usuwa wszystkie powtarzające się elementy z listy (tak, że każdy element występuje tylko raz) np. z listy `[1,1,2,2,2,3,3,5,5,5,4,4,4,0]` dostajemy `[1,2,3,5,4,0]`."
      ]
    },
    {
      "cell_type": "code",
      "execution_count": 0,
      "metadata": {
        "colab": {
          "base_uri": "https://localhost:8080/",
          "height": 34
        },
        "colab_type": "code",
        "id": "jzv3ZDrr8qaK",
        "outputId": "317ccb24-6937-4b4c-eed8-abd19967aa2d"
      },
      "outputs": [
        {
          "data": {
            "text/plain": [
              "[1, 2, 5, 3]"
            ]
          },
          "execution_count": 13,
          "metadata": {
            "tags": []
          },
          "output_type": "execute_result"
        }
      ],
      "source": [
        "rm = lambda list1: list(dict.fromkeys(list1, 1))\n",
        "\n",
        "rm([1, 1, 2, 1, 5, 2,2,1,5,3])"
      ]
    },
    {
      "cell_type": "markdown",
      "metadata": {
        "colab_type": "text",
        "id": "eHoImuXX8qaN"
      },
      "source": [
        "## Zadanie 4 _(10pt)_\n",
        "\n",
        "Napisz funkcję `prime_factors(n)`, która rozkłada $n$ na czynniki pierwsze i jako wynik wraca listę par $[(p_1,\\alpha_1), (p_2,\\alpha_2), \\ldots, (p_k, \\alpha_k)]$ taką, że $p_1^{\\alpha_1}p_2^{\\alpha_2}\\ldots p_k^{\\alpha_k}$.\n"
      ]
    },
    {
      "cell_type": "code",
      "execution_count": 0,
      "metadata": {
        "colab": {
          "base_uri": "https://localhost:8080/",
          "height": 34
        },
        "colab_type": "code",
        "id": "XsNTP3O18qaO",
        "outputId": "cbb33eb9-ccbf-4efc-c51a-4755c181b603"
      },
      "outputs": [
        {
          "name": "stdout",
          "output_type": "stream",
          "text": [
            "[(2, 1), (5, 1)]\n"
          ]
        }
      ],
      "source": [
        "from math import sqrt\n",
        "\n",
        "def prime_factors(n):\n",
        "    prime_fact_list = []\n",
        "    i = 2\n",
        "    while i <= n:\n",
        "        power = 0\n",
        "        while(n % i == 0):\n",
        "            power += 1\n",
        "            n //= i\n",
        "        if power:\n",
        "            pair = (i, power)\n",
        "            prime_fact_list.append(pair)\n",
        "        i+=1\n",
        "    \n",
        "    print(prime_fact_list)\n",
        "\n",
        "prime_factors(10)"
      ]
    },
    {
      "cell_type": "markdown",
      "metadata": {
        "colab_type": "text",
        "id": "NaDLmcyI8qaR"
      },
      "source": [
        "## Zadanie 5 _(10pt)_\n",
        "\n",
        "Napisz funkcję `fraczero(n)` liczącą silnie $n!$ dla $n$ od $0$ do $10000$ oraz jako wynik wraca liczbę zer na końcu $n!$."
      ]
    },
    {
      "cell_type": "code",
      "execution_count": 0,
      "metadata": {
        "colab": {
          "base_uri": "https://localhost:8080/",
          "height": 34
        },
        "colab_type": "code",
        "id": "iRRD8_LX8qaT",
        "outputId": "bcc1116b-d941-4627-f05f-143b803ea283"
      },
      "outputs": [
        {
          "name": "stdout",
          "output_type": "stream",
          "text": [
            "2499\n"
          ]
        }
      ],
      "source": [
        "from math import sqrt\n",
        "\n",
        "def factorial(n):\n",
        "    zeros = 0\n",
        "    p = 5\n",
        "    while(n/p >= 1):\n",
        "        zeros += int(n/p)\n",
        "        p *= 5\n",
        "    print(zeros)\n",
        "\n",
        "factorial(10000)"
      ]
    },
    {
      "cell_type": "markdown",
      "metadata": {
        "colab_type": "text",
        "id": "o2CaAlHv8qaZ"
      },
      "source": [
        "## Zadanie 6 _(10pt)_\n",
        "\n",
        "Napisz program, który generuje liczbę $20$ liczb losowych (rozkład jednostajny) od $1$ do $100$\n",
        "* Wyświetl listę wygenerowanych liczb\n",
        "* Wyświetl średnią\n",
        "* Wyświetl największą i najmniejszą wartość\n",
        "* Wyświetl drugą największą i drugą najmniejszą wartość na liście\n",
        "* Wyświetl ile jest liczb parzystych na liście\n",
        " "
      ]
    },
    {
      "cell_type": "code",
      "execution_count": 0,
      "metadata": {
        "colab": {
          "base_uri": "https://localhost:8080/",
          "height": 136
        },
        "colab_type": "code",
        "id": "uBlZVxwB8qaa",
        "outputId": "aa6a8fb1-bd04-443e-e9c6-91ee320f8908"
      },
      "outputs": [
        {
          "name": "stdout",
          "output_type": "stream",
          "text": [
            "list: [98, 14, 98, 62, 28, 77, 46, 42, 95, 52, 3, 19, 88, 69, 70, 74, 28, 71, 8, 88]\n",
            "average: 56.5\n",
            "min: 3\n",
            "max: 98\n",
            "second min: 8\n",
            "second max: 95\n",
            "odds: 14\n"
          ]
        }
      ],
      "source": [
        "from random import randint\n",
        "\n",
        "def randNum():\n",
        "    randList = []\n",
        "    odds = 0\n",
        "    avg = 0\n",
        "    for i in range(20):\n",
        "        x = randint(1,100)\n",
        "        randList.append(x)\n",
        "        avg += x\n",
        "        if( x % 2 == 0): odds += 1\n",
        "    print(\"list: \" + str(randList))\n",
        "    print(\"average: \" + str(avg/20))\n",
        "    print(\"min: \" + (str(min(randList))))\n",
        "    print(\"max: \" + (str(max(randList))))\n",
        "    print(\"second min: \" + str(sorted(list(set(randList)))[1]))\n",
        "    print(\"second max: \" + str(sorted(list(set(randList)))[-2]))\n",
        "    print(\"odds: \" + str(odds))\n",
        "\n",
        "randNum()"
      ]
    },
    {
      "cell_type": "markdown",
      "metadata": {
        "colab_type": "text",
        "id": "ZMbG1jnQ8qad"
      },
      "source": [
        "## Zadanie 7 _(10pt)_\n",
        "\n",
        "Załóżmy, że mamy następującą listę: `L = ['aababacaa', 'cabaabcca', 'aaabbcbacb', 'acababbaab', ...]` wygenerowaną losowo tzn. lista zawiera losowe ciągi znaków o zadanej długości z liter `'a'`, `'b'` i `'c'`. Takie wzorce występują w wielu miejscach np. sekwencje DNA. Użytkownik zawiera swój (wzorzec) ciąg znaków z literami i pustymi miejscami oznaczonymi przez `'*'` np. `\"a**a******\"`. Wykorzystaj słownik z kluczami zawierającymi indeksy znaków różnych od `'*'` i wartościami liter z wzorca. Napisz program, który znajduje wszystkie sekwencje z listy, które pasuje do podanego wzorca."
      ]
    },
    {
      "cell_type": "code",
      "execution_count": 0,
      "metadata": {
        "colab": {
          "base_uri": "https://localhost:8080/",
          "height": 51
        },
        "colab_type": "code",
        "id": "ETU-IOgB8qae",
        "outputId": "97e5dbbe-c3b2-479b-ac4a-0c4bee61b50f"
      },
      "outputs": [
        {
          "name": "stdout",
          "output_type": "stream",
          "text": [
            "['cccaa', 'bacbb', 'acabb', 'ccccc', 'cacaa']\n",
            "['aabbc']\n"
          ]
        }
      ],
      "source": [
        "from functools import partial\n",
        "from random import choice\n",
        "\n",
        "\n",
        "def createPattern(patttern):\n",
        "    result = {}\n",
        "    for i, letter in enumerate(patttern):\n",
        "        if letter != '*':\n",
        "            result[i] = letter\n",
        "    return result\n",
        "\n",
        "def isPattern(pattern, suspect):\n",
        "    for key, value in pattern.items():\n",
        "        if(suspect[key] != value):\n",
        "            return False\n",
        "    return True\n",
        "\n",
        "def checkPatterns(suspects, pattern):\n",
        "    rightPatterns = list(filter(partial(isPattern, pattern), suspects))\n",
        "    print(rightPatterns)\n",
        "\n",
        "def generateSuspects(lngth):\n",
        "    suspect = \"\"\n",
        "    for i in range(lngth):\n",
        "        suspect += str(choice(['a','b','c']))\n",
        "    return suspect\n",
        "\n",
        "susp = []\n",
        "for i in range(5):\n",
        "    susp.append(generateSuspects(5))\n",
        "print(susp)\n",
        "susp.append(\"aabbc\")\n",
        "patt = createPattern(\"a*b*c\")\n",
        "checkPatterns(susp, patt)"
      ]
    },
    {
      "cell_type": "markdown",
      "metadata": {
        "colab_type": "text",
        "id": "yC9NcQ6-8qah"
      },
      "source": [
        "## Zadanie 8 _(10pt)_\n",
        "\n",
        "Napisz program, który konwerteruje liczby rzymskie na liczby arabskie. Do zapisu liczb rzymskich używa\n",
        "się 7 liter: `I=1`, `V=5`, `X=10`, `L=50`, `C=100`, `D=500`, `M=1000`. Opis algorytmu zamiany z i na system rzymski można znaleźć np. [tutaj](http://www.algorytm.org/algorytmy-arytmetyczne/zamiana-z-i-na-system-rzymski.html)"
      ]
    },
    {
      "cell_type": "code",
      "execution_count": 0,
      "metadata": {
        "colab": {
          "base_uri": "https://localhost:8080/",
          "height": 34
        },
        "colab_type": "code",
        "id": "Wz1fB--Z7EaG",
        "outputId": "05e328d1-2f64-40c4-d896-a70c561416ac"
      },
      "outputs": [
        {
          "name": "stdout",
          "output_type": "stream",
          "text": [
            "Invalid number!\n"
          ]
        }
      ],
      "source": [
        "import roman\n",
        "try:\n",
        "  roman.fromRoman(\"\")\n",
        "except:\n",
        "  print(\"Invalid number!\")\n"
      ]
    },
    {
      "cell_type": "code",
      "execution_count": 0,
      "metadata": {
        "colab": {},
        "colab_type": "code",
        "id": "4g1tuPMD8qai"
      },
      "outputs": [],
      "source": [
        "def isCorrect(romanNum, allRomanNum):\n",
        "    previousNumber = ''\n",
        "    sameNumber = 1\n",
        "    for i in range(len(romanNum)):\n",
        "        # check if such roman number exists\n",
        "        if romanNum[i] not in list(allRomanNum.keys()):\n",
        "            print(\"wrong digit\")\n",
        "            return False\n",
        "        # check if no more than three the same numbers in a row\n",
        "        if(romanNum[i] == previousNumber):\n",
        "            sameNumber += 1\n",
        "            if sameNumber == 4:\n",
        "                print(\"more than 3\")\n",
        "                return False\n",
        "        else:\n",
        "            sameNumber = 1\n",
        "        # check if substracting is correct\n",
        "        if(i < len(romanNum)-1):\n",
        "            if(allRomanNum[romanNum[i]] < allRomanNum[romanNum[i+1]]):\n",
        "                if(allRomanNum[romanNum[i+1]]/allRomanNum[romanNum[i]] >= 10 and romanNum[i] != 'C' and (romanNum[i] != 'I' and romanNum[i+1] != 'X') and (romanNum[i] != 'X' and romanNum[i+1] != 'C')):\n",
        "                    print(\"second wrong\")\n",
        "                    return False\n",
        "                if( i >= 1):\n",
        "                    if allRomanNum[romanNum[i-1]] <= allRomanNum[romanNum[i]]:\n",
        "                        print(\"one before was equal or less so next must not be equal or greater\")\n",
        "                        return False\n",
        "                if( i < len(romanNum)-2):\n",
        "                    if allRomanNum[romanNum[i]] <= allRomanNum[romanNum[i+2]]:\n",
        "                        print(i)\n",
        "                        return False\n",
        "                if(i >= 2):\n",
        "                    if allRomanNum[romanNum[i-2] == allRomanNum[romanNum[i]]]:\n",
        "                        return False\n",
        "     \n",
        "        previousNumber = romanNum[i]\n",
        "                   \n",
        "    return True\n",
        "\n",
        "\n",
        "def countArabic(romanNum):\n",
        "    allRomanNum = {'I': 1, 'V': 5, 'X': 10, 'L':50, 'C': 100, 'D': 500, 'M': 1000}\n",
        "    if not isCorrect(romanNum, allRomanNum):\n",
        "        print(\"Wrong number!\")\n",
        "        return -1\n",
        "\n",
        "    arabicNum = 0\n",
        "\n",
        "    for i in range(len(romanNum)):\n",
        "        if i < len(romanNum)-1:\n",
        "            if allRomanNum[romanNum[i]] < allRomanNum[romanNum[i+1]]:\n",
        "                arabicNum -= allRomanNum[romanNum[i]]\n",
        "            else:\n",
        "                arabicNum += allRomanNum[romanNum[i]]\n",
        "        else:\n",
        "            arabicNum += allRomanNum[romanNum[i]]\n",
        "    return arabicNum\n",
        "\n",
        "print(countArabic(\"\"))\n",
        "\n",
        "\n",
        "        "
      ]
    },
    {
      "cell_type": "markdown",
      "metadata": {
        "colab_type": "text",
        "id": "u7X7zeyS8qal"
      },
      "source": [
        "## Zadanie 9* _(5pt)_\n",
        "\n",
        "Napisz program kalkulator, który pobiera wprowadzone wartości oraz funkcje z klawiatury następnie podaje wynik. W przypadku błędnych danych zgłasza błąd.\n",
        "\n",
        "Przykładowa sesja:\n",
        "```\n",
        "    Kalkulator\n",
        "    [1]: 2+5*10\n",
        "        52\n",
        "    [2]: sin(0.5)+cos(0.3)\n",
        "        1.434762027729809\n",
        "    [3]: 2^100\n",
        "        1267650600228229401496703205376\n",
        "```\n",
        "\n",
        "Przykładowy kod pobierania danych od użytkownika:\n",
        "\n",
        "```\n",
        "    x = input('Podaj x = ')\n",
        "```"
      ]
    },
    {
      "cell_type": "code",
      "execution_count": 0,
      "metadata": {
        "colab": {},
        "colab_type": "code",
        "id": "e3SGCvDS8qam"
      },
      "outputs": [],
      "source": [
        ""
      ]
    },
    {
      "cell_type": "markdown",
      "metadata": {
        "colab_type": "text",
        "id": "tiOOwuDi8qao"
      },
      "source": [
        "\n",
        "## Zadanie 10* _(10pt)_\n",
        "\n",
        "Napisz program, który rysuje na ekranie w trybie znakowym wykres funkcji zmiennej $x$. Wskazówka: utwórz  ,,tablicę dwuwymiarową'' o wymiarach 80x24 i narysuj wykres w tej tablicy. Następnie wynik wyświetl na ekranie.\n",
        "\n",
        "```\n",
        "        Podaj funkcje f(x) = sin(x)\n",
        "        Podaj początek przedziału a = -pi\n",
        "        Podaj koniec przedziału b = pi\n",
        "                                                |\n",
        "                                                |\n",
        "                                                |              ***********\n",
        "                                                |           ***           ***\n",
        "                                                |         **                 **\n",
        "                                                |        *                     *\n",
        "                                                |      **                       **\n",
        "                                                |     *                           *\n",
        "                                                |   **                             **\n",
        "                                                |  *                                 *\n",
        "                                                | *                                   *\n",
        "                                                |*                                     *\n",
        "        ----------------------------------------|---------------------------------------\n",
        "          *                                   * |\n",
        "           *                                 *  |\n",
        "            **                             **   |\n",
        "              *                           *     |\n",
        "               **                       **      |\n",
        "                 *                     *        |\n",
        "                  **                 **         |\n",
        "                    ***           ***           |\n",
        "                       ***** *****              |\n",
        "                            *                   |\n",
        "                                                |\n",
        "```"
      ]
    },
    {
      "cell_type": "code",
      "execution_count": 12,
      "metadata": {},
      "outputs": [
        {
          "name": "stdout",
          "output_type": "stream",
          "text": "*********                             \n                                         *         **                           \n                                       **            *                          \n                                      *               *                         \n                                     *                 *                        \n                                    *                   *                       \n                                   *                     *                      \n                                  *                       *                     \n                                 *                         *                    \n                                *                           *                   \n                               *                             *                  \n                              *                               *                 \n*                                                              *                \n *                           *                                  *               \n  *                         *                                                   \n   *                       *                                     *              \n                          *                                       *             \n    **                   *                                         *            \n      *                 *                                           *           \n       *               *                                             **         \n        *            **                                                *        \n         **        **                                                   **      \n           **** ***                                                       ******\n               *                                                                \n"
        }
      ],
      "source": [
        "from math import *\n",
        "\n",
        "chart = [['' for j in range(80)] for i in range(24)]\n",
        "f =input(\"Podaj funkcje ze zmienna x: \")\n",
        "values = []\n",
        "f = f.replace(\"^\",\"**\")\n",
        "\n",
        "a = abs(int(input(\"Podaj początek przedziału: \")))\n",
        "b = abs(int(input(\"Podaj koniec przedziału: \")))\n",
        "\n",
        "for j in range(80):\n",
        "    x = (a+b)/80*(j+1)\n",
        "    g = f.replace(\"x\", str(x))\n",
        "    values.append(eval(g))\n",
        "\n",
        "maks = max(values)\n",
        "minik = min(values)\n",
        "height = abs(maks) + abs(minik)\n",
        "\n",
        "\n",
        "\n",
        "for j in range(80):\n",
        "    i = abs(int((values[j] - minik)*(23/height)))\n",
        "    chart[i][j]='*'\n",
        "\n",
        "for i in range(24):\n",
        "    for j in range(80):\n",
        "        if chart[i][j] != '*':\n",
        "            print('', end=' ')\n",
        "        else:\n",
        "            print(chart[i][j], end='')\n",
        "    print()\n"
      ]
    },
    {
      "cell_type": "code",
      "execution_count": null,
      "metadata": {},
      "outputs": [],
      "source": []
    }
  ]
}