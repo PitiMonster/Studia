{
 "nbformat": 4,
 "nbformat_minor": 2,
 "metadata": {
  "language_info": {
   "name": "python",
   "codemirror_mode": {
    "name": "ipython",
    "version": 3
   },
   "version": "3.8.0-final"
  },
  "orig_nbformat": 2,
  "file_extension": ".py",
  "mimetype": "text/x-python",
  "name": "python",
  "npconvert_exporter": "python",
  "pygments_lexer": "ipython3",
  "version": 3,
  "kernelspec": {
   "name": "python38064bitbefeca4a2a03435988f1b5644c238c46",
   "display_name": "Python 3.8.0 64-bit"
  }
 },
 "cells": [
  {
   "cell_type": "code",
   "execution_count": null,
   "metadata": {},
   "outputs": [],
   "source": [
    "''' funkcja dookonująca transpozycji macierzy kwadratowej '''\n",
    "def transpozycja(macierz):\n",
    "    # tworzenie list z tych samych (w sensie kolejności) elementów list\n",
    "    # łączenie ich za pomocą spacji\n",
    "    return [\" \".join([rzad.split()[i] for rzad in macierz]) for i in range(len(macierz))]\n",
    "\n",
    "if __name__=='__main__':\n",
    "   macierz = ['1.1 2.2 3.3', '4.4 5.5 6.6', '7.7 8.8 9.9']\n",
    "   print(transpozycja(macierz))"
   ]
  },
  {
   "cell_type": "code",
   "execution_count": null,
   "metadata": {},
   "outputs": [],
   "source": [
    "''' funkcja tworząca listę prostą z listy zagnieżdżonej ''' \n",
    "def flatten(l):\n",
    "    for elem in l:\n",
    "        # jeśli element jest listą to rekurencyjnie go rozkładamy\n",
    "        if isinstance(elem, list): \n",
    "            for nested_elem in flatten(elem):\n",
    "                yield nested_elem\n",
    "        else:\n",
    "            yield elem\n",
    "        \n",
    "\n",
    "if __name__=='__main__':\n",
    "     l = [[1, 2, [\"a\", 4, \"b\", 5, 5, 5]], [4, 5, 6 ], 7, [[9, [123, [[123]]]], 10]]\n",
    "     print(list(flatten(l)))\n",
    "     "
   ]
  },
  {
   "cell_type": "code",
   "execution_count": null,
   "metadata": {},
   "outputs": [],
   "source": [
    "def count_bytes(filename):\n",
    "    with open(filename, \"r\") as file:\n",
    "        return sum([int(line.split()[-1]) for line in file])\n",
    "\n",
    "if __name__=='__main__':\n",
    "    filename = 'count_bytes.txt'\n",
    "    print(\"Całkowita liczba bajtów: \",count_bytes(filename))"
   ]
  },
  {
   "cell_type": "code",
   "execution_count": null,
   "metadata": {},
   "outputs": [],
   "source": [
    "''' algorytm quick sort z wykorzystaniem filter '''\n",
    "def q_sort_filter(l):\n",
    "    return l if len(l) <= 1 else (\n",
    "        # filtrowanie elementów które są < l[0]\n",
    "        q_sort(list(filter(lambda k: k < l[0], l[1:]))) \n",
    "        + [l[0]] \n",
    "        + q_sort_filter(list(filter(lambda k: k >= l[0], l[1:])))\n",
    "     )\n",
    "\n",
    "''' algorytm quick sort z wykorzystaniem listy składanej '''\n",
    "def q_sort_list(l):\n",
    "    return l if len(l) <= 1 else (\n",
    "        q_sort_list([elem for elem in l[1:] if elem < l[0]]) \n",
    "        + [l[0]] \n",
    "        + q_sort_list([elem for elem in l[1:] if elem >= l[0]])\n",
    "    )\n",
    "\n",
    "if __name__=='__main__':\n",
    "    x= [3,2,3,1,5,6,2,8,9,2,3,2]\n",
    "    print(q_sort_filter(x))\n",
    "    print(q_sort_list(x))"
   ]
  },
  {
   "cell_type": "code",
   "execution_count": null,
   "metadata": {},
   "outputs": [],
   "source": [
    "''' funkcja zwracająca wszystkie podzbiory zbioru '''\n",
    "def subsets_map_lambda(l):\n",
    "    return [[]] if len(l) == 0 else ( \n",
    "        # mapowanie zbiorów na połączone zbiory za pomocą lambdy\n",
    "        list(map(lambda x: [l[0],*x], subsets_map_lambda(l[1:]))) \n",
    "        # dołączanie reszty podzbiorów bez elementu l[0] \n",
    "        + subsets_map_lambda(l[1:])\n",
    "    )\n",
    "\n",
    "def subsets(l):\n",
    "    return [[]] if len(l) == 0 else (\n",
    "        # łączenie wszystkich zbiorów z elementem l[0]\n",
    "        [[l[0],*x] for x in subsets(l[1:])] \n",
    "        + subsets(l[1:])\n",
    "    )\n",
    "\n",
    "\n",
    "print(subsets_map_lambda([1,2,3]))\n",
    "print(subsets([1,2,3]))"
   ]
  },
  {
   "cell_type": "code",
   "execution_count": null,
   "metadata": {},
   "outputs": [],
   "source": []
  }
 ]
}